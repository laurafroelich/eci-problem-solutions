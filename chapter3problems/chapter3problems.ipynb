{
 "cells": [
  {
   "cell_type": "code",
   "execution_count": null,
   "id": "fbb8b4aa-aa26-4aa7-839f-15f82b37cffe",
   "metadata": {
    "tags": []
   },
   "outputs": [],
   "source": [
    "import pandas as pd\n",
    "import numpy as np\n",
    "from matplotlib import pyplot as plt"
   ]
  },
  {
   "cell_type": "code",
   "execution_count": null,
   "id": "6a1cbfb8-f6b8-4c8c-bded-eb96a0830f3e",
   "metadata": {
    "tags": []
   },
   "outputs": [],
   "source": [
    "%matplotlib inline"
   ]
  },
  {
   "cell_type": "code",
   "execution_count": null,
   "id": "7f6f1843-3ce0-4fc6-aae7-1462723c4c0c",
   "metadata": {
    "tags": []
   },
   "outputs": [],
   "source": [
    "rng = np.random.default_rng()"
   ]
  },
  {
   "cell_type": "markdown",
   "id": "863b97d5-13eb-48e4-bd66-b9436a6b5c05",
   "metadata": {
    "tags": []
   },
   "source": [
    "# Problem 3.5 (Sampling from an SCM)\n",
    "\n",
    "Consider the SCM\n",
    "$$ \n",
    "X := Y^2 + N_X \\\\\\\n",
    "Y := N_Y\n",
    "$$ \n",
    "\n",
    "with $N_X, N_Y \\sim^{iid} \\mathcal{N}(0, 1)$.\n",
    "\n",
    "Generate an i.i.d. sample of size 200 from the joint distribution $(X, Y)$"
   ]
  },
  {
   "cell_type": "code",
   "execution_count": null,
   "id": "a1dd7212-14db-45c5-9dff-cb01b1b2a0f6",
   "metadata": {
    "tags": []
   },
   "outputs": [],
   "source": [
    "n_obs = 200\n",
    "Ny = rng.normal(loc=0, scale=1, size=n_obs)\n",
    "Nx = rng.normal(loc=0, scale=1, size=n_obs)"
   ]
  },
  {
   "cell_type": "code",
   "execution_count": null,
   "id": "7b4b3abe-885f-4c64-baa1-4040313e0a79",
   "metadata": {
    "tags": []
   },
   "outputs": [],
   "source": [
    "Y = Ny\n",
    "X = Y**2 + Nx"
   ]
  },
  {
   "cell_type": "code",
   "execution_count": null,
   "id": "69daa36f-bfbb-402d-88e9-e7901ca89a44",
   "metadata": {
    "tags": []
   },
   "outputs": [],
   "source": [
    "x_min = np.min(X)\n",
    "x_max = np.max(X)\n",
    "y_min = np.min(Y)\n",
    "y_max = np.max(Y)\n",
    "\n",
    "fig = plt.figure()\n",
    "ax = fig.add_subplot(projection='3d')\n",
    "hist, xedges, yedges = np.histogram2d(X, X, bins=4, range=[[x_min, x_max], [y_min, y_max]])\n",
    "\n",
    "# Construct arrays for the anchor positions of the 16 bars.\n",
    "xpos, ypos = np.meshgrid(xedges[:-1] + 0.25, yedges[:-1] + 0.25, indexing=\"ij\")\n",
    "xpos = xpos.ravel()\n",
    "ypos = ypos.ravel()\n",
    "zpos = 0\n",
    "\n",
    "dx = dy = 0.5 * np.ones_like(zpos)\n",
    "dz = hist.ravel()\n",
    "\n",
    "ax.bar3d(xpos, ypos, zpos, dx, dy, dz, zsort='average')"
   ]
  },
  {
   "cell_type": "markdown",
   "id": "0b90989d-5438-4762-8f73-968ed5b250f5",
   "metadata": {},
   "source": [
    "# Problem 3.6 (Conditional distributions)\n",
    "\n",
    "Show that $P^\\mathfrak{C}_{C|E=2}$ in Equation (3.4) is a Gaussian distribution:\n",
    "\n",
    "$$\n",
    "C|E = 2 \\sim \\mathcal{N}\\left(\\frac{8}{17}, \\sigma^2 = \\frac{1}{17}\\right).\n",
    "$$\n",
    "\n",
    "The definition of the SCM is:\n",
    "\n",
    "$$ \n",
    "C := N_C \\\\\\\n",
    "E := 4 \\cdot C + N_E\n",
    "$$ \n",
    "\n",
    "with $N_C, N_E \\sim^{iid} \\mathcal{N}(0, 1)$, implying that:"
   ]
  },
  {
   "cell_type": "markdown",
   "id": "7fef0104-ab54-4a43-a5dc-633ee4618d31",
   "metadata": {},
   "source": [
    "$E \\sim \\mathcal{N}(0, 17)$."
   ]
  },
  {
   "cell_type": "markdown",
   "id": "cf850dde-ad28-4d22-8e06-703ec97588a4",
   "metadata": {},
   "source": [
    "By construction, $C$ and $E$ are bivariate normally distributed random variables, implying their standardized versions are also bivariate normally distributed with the same correlation coefficient. Let us now find the correlation coefficient:\n",
    "\n",
    "$ cov(C, E) = cov(N_C, 4 \\cdot N_C + N_E) =  cov(N_C, 4 \\cdot N_C) + cov(N_C, N_E) = \\\\ cov(N_C, 4 \\cdot N_C) = 4 \\cdot cov(N_C, N_C) = 4 \\cdot 1 = 4$ \n",
    "\n",
    "$corr(C, E) = \\frac{cov(C, E)}{\\sigma_C \\sigma_E} = \\frac{4}{1 \\cdot \\sqrt{17}}= \\frac{4}{\\sqrt{17}} = \\rho$.\n",
    "\n",
    "The standardized versions of $C$ and $E$ are:\n",
    "\n",
    "$$\n",
    "X := \\frac{C - \\mu_C}{\\sigma_C} = \\frac{C - 0}{1} = C \\\\\\\n",
    "Y := \\frac{E - \\mu_E}{\\sigma_E} = \\frac{E - 0}{\\sqrt{17}} = \\frac{E}{\\sqrt{17}}\n",
    "$$"
   ]
  },
  {
   "cell_type": "markdown",
   "id": "350c0c61-4128-49af-bea3-32520bda8b81",
   "metadata": {},
   "source": [
    "With $E$ equal to 2, we have that $Y$ is $\\frac{2}{\\sqrt{17}}$. Using the equations for conditional distributions for bivariate standard normal random variables, we have that:\n",
    "\n",
    "$$\n",
    "X|Y=y \\sim \\mathcal{N}\\left(\\rho \\cdot y, 1-\\rho^2 \\right) \\implies \\\\\\\n",
    "X|Y=\\frac{2}{\\sqrt{17}} \\sim \\mathcal{N}\\left(\\frac{4}{\\sqrt{17}} \\cdot \\frac{2}{\\sqrt{17}}, 1 - \\left(\\frac{4}{\\sqrt{17}} \\right)^2\\right) \\implies\\\\\\\n",
    "X|Y=\\frac{2}{\\sqrt{17}} \\sim \\mathcal{N}\\left(\\frac{8}{17}, 1 - \\frac{16}{17} \\right) \\implies \\\\\\\n",
    "X|Y=\\frac{2}{\\sqrt{17}} \\sim \\mathcal{N}\\left(\\frac{8}{17}, \\frac{1}{17} \\right) \n",
    "$$\n",
    "\n",
    "Since $X$ is the same as $C$, we do not need to transform $X$ to get $C$ and this is the distribution we wanted to find."
   ]
  },
  {
   "cell_type": "markdown",
   "id": "e1eee255-334e-45e6-84b7-8a4c92f93614",
   "metadata": {
    "tags": []
   },
   "source": [
    "# Problem 3.7 (Interventions)\n"
   ]
  },
  {
   "cell_type": "markdown",
   "id": "c338dc4a-906b-4b62-8429-0e67a1bbf27c",
   "metadata": {},
   "source": [
    "Assume that we know that a process either follows the SCM\n",
    "\n",
    "$$\n",
    "X := Y + N_X \\\\\\\n",
    "Y := N_Y,\n",
    "$$\n",
    "\n",
    "where $N_X \\sim \\mathcal{N}(\\mu_X, \\sigma_X^2)$ and $N_Y \\sim \\mathcal{N}(\\mu_Y, \\sigma_Y^2)$ with unknown $\\mu_X, \\mu_Y$ and $\\sigma_X, \\sigma_Y > 0$, or it follows the SCM\n",
    "\n",
    "$$\n",
    "X := M_X \\\\\\\n",
    "Y := X + M_Y,\n",
    "$$\n",
    "\n",
    "where $M_X \\sim \\mathcal{N}(\\nu_X, \\tau_X^2)$ and $M_Y \\sim \\mathcal{N}(\\nu_Y, \\tau_Y^2)$ with unknown $\\nu_X, \\nu_Y$ and $\\tau_X, \\tau_Y > 0$.\n",
    "\n",
    "Is there a single intervention distribution that lets you distinguish between the two SCMs?\n",
    "\n",
    "Answer:\n",
    "\n",
    "The first SCM (SCM1) corresponds to the graph $Y \\rightarrow X$ whereas the second SCM (SCM2) corresponds to the graph $X \\rightarrow Y$. If we could obtain the intervention distribution describing the effect on $X$ of changing $Y$, we would be able to see whether changing $X$ changes $Y$. If that is the case, this would be evidence for SCM2, otherwise SCM1 must hold."
   ]
  },
  {
   "cell_type": "markdown",
   "id": "824b3cf0-4158-4fcc-b7e3-7c073a5de284",
   "metadata": {
    "tags": []
   },
   "source": [
    "# Problem 3.8 (Cyclic SCMs)\n",
    "\n",
    "a) SCM1:\n",
    "\n",
    "$$\n",
    "X := 2 \\cdot Y + N_X \\\\\\\n",
    "Y := 2 \\cdot X + N_Y\n",
    "$$\n",
    "\n",
    "with $(N_X, N_Y)\\sim P$ for an arbitrary distribution $P$. Compute $\\alpha, \\beta, \\gamma, \\delta$ such that\n",
    "\n",
    "$$\n",
    "X := \\alpha N_X + \\beta N_Y \\\\\\\n",
    "Y := \\gamma N_X + \\delta N_Y\n",
    "$$\n",
    "\n",
    "Answer:\n",
    "By isolating $X$ and $Y$, we find that $\\alpha = \\frac{-1}{3}$, $\\beta=\\frac{-2}{3}$, $\\gamma=\\frac{-2}{3}$, and $\\delta=\\frac{-1}{3}$.\n",
    "\n",
    "b) SCM2:\n",
    "\n",
    "$$\n",
    "X := Y + N_X \\\\\\\n",
    "Y := X + N_Y\n",
    "$$\n",
    "\n",
    "with $(N_X, N_Y)\\sim P$. Show that if $P$ allows for a density with respect to Lebesgue measure and factorizes, that is, $N_X$ and $N_Y$ are independent, then there is no solution $(X, Y, N_X, N_Y)$ of the SCM.\n",
    "\n",
    "Answer:\n",
    "Substituting the expression for $Y$ in $X$, we find:\n",
    "\n",
    "$$\n",
    "X = X + N_Y + N_X \\implies N_Y = -N_X.\n",
    "$$\n",
    "\n",
    "Hence the only way for SCM2 to hold is if $N_Y$ and $N_X$ are negatives of each other, which is not possible if they are independent.\n",
    "\n",
    "Define $P$ as $(Z, -Z)$, where Z is a standard normally distributed random variable, i.e. $N_X \\sim \\mathcal{N}(0, 1)$ and $N_Y = -N_X$. \n",
    "\n",
    "Let $X := \\alpha N_X \\implies Y := \\alpha N_X - N_X \\implies Y = (\\alpha - 1)N_X$. So the vector $(\\alpha N_X, (\\alpha - 1)N_X, N_X, -N_X)$ solves the SCM. A concrete example is $(2 N_X, N_X, N_X, -N_X)$."
   ]
  },
  {
   "cell_type": "code",
   "execution_count": null,
   "id": "730dad20-0950-4c42-b552-9a66da8000b0",
   "metadata": {},
   "outputs": [],
   "source": []
  }
 ],
 "metadata": {
  "kernelspec": {
   "display_name": "Python 3 (ipykernel)",
   "language": "python",
   "name": "python3"
  },
  "language_info": {
   "codemirror_mode": {
    "name": "ipython",
    "version": 3
   },
   "file_extension": ".py",
   "mimetype": "text/x-python",
   "name": "python",
   "nbconvert_exporter": "python",
   "pygments_lexer": "ipython3",
   "version": "3.8.10"
  }
 },
 "nbformat": 4,
 "nbformat_minor": 5
}
